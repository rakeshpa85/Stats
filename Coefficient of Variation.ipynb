{
 "cells": [
  {
   "cell_type": "code",
   "execution_count": 1,
   "metadata": {},
   "outputs": [
    {
     "name": "stdout",
     "output_type": "stream",
     "text": [
      "For List 1 :\n",
      "Variance : 31.25\n",
      "Standard Deviation : 5.5901699437494745\n",
      "Coefficient of Variation 0.447213595499958\n",
      "\n",
      "\n",
      "For List 2 :\n",
      "Variance : 1.25\n",
      "Standard Deviation : 1.118033988749895\n",
      "Coefficient of Variation 0.447213595499958\n"
     ]
    }
   ],
   "source": [
    "import numpy as np\n",
    "from scipy import stats\n",
    "\n",
    "lst1 = [5,10,15,20]\n",
    "lst2 = [1,2,3,4]\n",
    "\n",
    "print(\"For List 1 :\")\n",
    "print(\"Variance :\", np.var(lst1))\n",
    "print(\"Standard Deviation :\", np.std(lst1))\n",
    "print(\"Coefficient of Variation\", stats.variation(lst1))\n",
    "\n",
    "print(\"\\n\")\n",
    "print(\"For List 2 :\")\n",
    "print(\"Variance :\", np.var(lst2))\n",
    "print(\"Standard Deviation :\", np.std(lst2))\n",
    "print(\"Coefficient of Variation\", stats.variation(lst2))"
   ]
  },
  {
   "cell_type": "markdown",
   "metadata": {},
   "source": [
    "#### Eventhough Variance and Standard Deviations for these two lists are different, Coefficient of Variation is same"
   ]
  },
  {
   "cell_type": "code",
   "execution_count": null,
   "metadata": {},
   "outputs": [],
   "source": []
  }
 ],
 "metadata": {
  "kernelspec": {
   "display_name": "Python 3",
   "language": "python",
   "name": "python3"
  },
  "language_info": {
   "codemirror_mode": {
    "name": "ipython",
    "version": 3
   },
   "file_extension": ".py",
   "mimetype": "text/x-python",
   "name": "python",
   "nbconvert_exporter": "python",
   "pygments_lexer": "ipython3",
   "version": "3.8.5"
  }
 },
 "nbformat": 4,
 "nbformat_minor": 4
}
