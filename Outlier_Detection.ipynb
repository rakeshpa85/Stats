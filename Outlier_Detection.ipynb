{
 "cells": [
  {
   "cell_type": "code",
   "execution_count": 40,
   "metadata": {},
   "outputs": [],
   "source": [
    "import numpy as np\n",
    "import scipy as sp\n",
    "from scipy import stats\n",
    "import pandas as pd"
   ]
  },
  {
   "cell_type": "markdown",
   "metadata": {},
   "source": [
    "#### IQR Approach"
   ]
  },
  {
   "cell_type": "code",
   "execution_count": 41,
   "metadata": {},
   "outputs": [],
   "source": [
    "def get_iqr(p_series):\n",
    "    q_dict={}\n",
    "    q_dict['Q1'] = np.quantile(p_series,0.25)\n",
    "    q_dict['Q2'] = np.quantile(p_series,0.5)\n",
    "    q_dict['Q3'] = np.quantile(p_series,0.75)\n",
    "    q_dict['IQR'] = q_dict['Q3'] - q_dict['Q1']\n",
    "    q_dict['Upper_Whisk'] = q_dict['Q3'] + (q_dict['IQR'] * 1.5)\n",
    "    q_dict['Lower_Whisk'] = q_dict['Q1'] - (q_dict['IQR'] * 1.5)\n",
    "    q_dict['Upper_outlier_count'] = p_series[p_series > q_dict['Upper_Whisk']].size\n",
    "    q_dict['Lower_outlier_count'] = p_series[p_series < q_dict['Lower_Whisk']].size\n",
    "    return q_dict"
   ]
  },
  {
   "cell_type": "markdown",
   "metadata": {},
   "source": [
    "#### IQR Approach ; Example 1"
   ]
  },
  {
   "cell_type": "code",
   "execution_count": 42,
   "metadata": {},
   "outputs": [
    {
     "data": {
      "text/plain": [
       "{'Q1': -25.0,\n",
       " 'Q2': 56.0,\n",
       " 'Q3': 125.0,\n",
       " 'IQR': 150.0,\n",
       " 'Upper_Whisk': 350.0,\n",
       " 'Lower_Whisk': -250.0,\n",
       " 'Upper_outlier_count': 1,\n",
       " 'Lower_outlier_count': 1}"
      ]
     },
     "execution_count": 42,
     "metadata": {},
     "output_type": "execute_result"
    }
   ],
   "source": [
    "v_list = [-1000,-25,56,125,2000]\n",
    "s1 = pd.Series(v_list)\n",
    "get_iqr(s1)"
   ]
  },
  {
   "cell_type": "markdown",
   "metadata": {},
   "source": [
    "#### IQR Approach ; Example 2"
   ]
  },
  {
   "cell_type": "code",
   "execution_count": 43,
   "metadata": {},
   "outputs": [
    {
     "data": {
      "text/plain": [
       "{'Q1': 9.5,\n",
       " 'Q2': 13.0,\n",
       " 'Q3': 17.5,\n",
       " 'IQR': 8.0,\n",
       " 'Upper_Whisk': 29.5,\n",
       " 'Lower_Whisk': -2.5,\n",
       " 'Upper_outlier_count': 1,\n",
       " 'Lower_outlier_count': 0}"
      ]
     },
     "execution_count": 43,
     "metadata": {},
     "output_type": "execute_result"
    }
   ],
   "source": [
    "v_list = [6, 7, 7, 12, 13, 13, 15, 16, 19, 22,70]\n",
    "s1 = pd.Series(v_list)\n",
    "get_iqr(s1)"
   ]
  },
  {
   "cell_type": "markdown",
   "metadata": {},
   "source": [
    "#### Z-Score Approach ; Example 1"
   ]
  },
  {
   "cell_type": "code",
   "execution_count": 44,
   "metadata": {},
   "outputs": [
    {
     "name": "stdout",
     "output_type": "stream",
     "text": [
      "[-1.26290291 -0.26279705 -0.17971133 -0.10893461  1.8143459 ]\n",
      "Upper outlier count 0\n",
      "Lower outlier count 0\n"
     ]
    }
   ],
   "source": [
    "v_list = [-1000,-25,56,125,2000]\n",
    "s1 = pd.Series(v_list)\n",
    "zscr = stats.zscore(s1)\n",
    "print(zscr)\n",
    "print(\"Upper outlier count\", zscr[zscr > 3].size)\n",
    "print(\"Lower outlier count\", zscr[zscr < -3].size)"
   ]
  },
  {
   "cell_type": "markdown",
   "metadata": {},
   "source": [
    "#### Z-Score Approach ; Example 2"
   ]
  },
  {
   "cell_type": "code",
   "execution_count": 45,
   "metadata": {},
   "outputs": [
    {
     "name": "stdout",
     "output_type": "stream",
     "text": [
      "[-0.71359423 -0.6550156  -0.6550156  -0.36212244 -0.30354381 -0.30354381\n",
      " -0.18638655 -0.12780792  0.04792797  0.22366386  3.03543813]\n",
      "Upper outlier count 1\n",
      "Lower outlier count 0\n"
     ]
    }
   ],
   "source": [
    "v_list = [6, 7, 7, 12, 13, 13, 15, 16, 19, 22,70]\n",
    "s1 = pd.Series(v_list)\n",
    "zscr = stats.zscore(s1)\n",
    "print(zscr)\n",
    "print(\"Upper outlier count\", zscr[zscr > 3].size)\n",
    "print(\"Lower outlier count\", zscr[zscr < -3].size)"
   ]
  },
  {
   "cell_type": "code",
   "execution_count": null,
   "metadata": {},
   "outputs": [],
   "source": []
  }
 ],
 "metadata": {
  "kernelspec": {
   "display_name": "Python 3",
   "language": "python",
   "name": "python3"
  },
  "language_info": {
   "codemirror_mode": {
    "name": "ipython",
    "version": 3
   },
   "file_extension": ".py",
   "mimetype": "text/x-python",
   "name": "python",
   "nbconvert_exporter": "python",
   "pygments_lexer": "ipython3",
   "version": "3.8.5"
  }
 },
 "nbformat": 4,
 "nbformat_minor": 4
}
